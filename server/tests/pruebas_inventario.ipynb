{
 "cells": [
  {
   "cell_type": "markdown",
   "id": "f79c2a4c",
   "metadata": {},
   "source": [
    "# Pruebas del Sistema de Inventario\n",
    "\n",
    "Este notebook contiene pruebas para validar el funcionamiento del sistema de altas y bajas de inventario."
   ]
  },
  {
   "cell_type": "code",
   "execution_count": null,
   "id": "84c7eae5",
   "metadata": {},
   "outputs": [],
   "source": [
    "import requests\n",
    "import json\n",
    "\n",
    "# Configuración base\n",
    "BASE_URL = 'http://localhost:3000/api'\n",
    "headers = {\n",
    "    'Content-Type': 'application/json'\n",
    "}"
   ]
  },
  {
   "cell_type": "markdown",
   "id": "247aa3f9",
   "metadata": {},
   "source": [
    "## 1. Login como administrador\n",
    "Primero necesitamos obtener un token de acceso"
   ]
  },
  {
   "cell_type": "code",
   "execution_count": null,
   "id": "3d493ffb",
   "metadata": {},
   "outputs": [],
   "source": [
    "def login_admin():\n",
    "    login_data = {\n",
    "        'username': 'admin',  # Reemplaza con tu usuario admin\n",
    "        'password': 'tu_password'  # Reemplaza con tu contraseña\n",
    "    }\n",
    "    \n",
    "    response = requests.post(f'{BASE_URL}/auth/login', json=login_data)\n",
    "    if response.status_code == 200:\n",
    "        token = response.json()['token']\n",
    "        return {'Authorization': f'Bearer {token}', 'Content-Type': 'application/json'}\n",
    "    else:\n",
    "        raise Exception('Error en login:', response.json())\n",
    "\n",
    "# Obtener headers con token\n",
    "headers_auth = login_admin()"
   ]
  },
  {
   "cell_type": "markdown",
   "id": "c7af7a58",
   "metadata": {},
   "source": [
    "## 2. Prueba de Alta de Inventario\n",
    "Crearemos una solicitud de entrada de inventario"
   ]
  },
  {
   "cell_type": "code",
   "execution_count": null,
   "id": "ae74ae7d",
   "metadata": {},
   "outputs": [],
   "source": [
    "def crear_solicitud_entrada():\n",
    "    data_entrada = {\n",
    "        \"tipoMovimiento\": \"ENTRADA\",\n",
    "        \"inventarioTipo\": \"INTERIOR\",\n",
    "        \"itemId\": \"ID_DEL_ITEM\",  # Reemplazar con un ID válido\n",
    "        \"cantidad\": 5,\n",
    "        \"motivoSolicitud\": \"Prueba de entrada de inventario\",\n",
    "        \"numerosSerie\": [\"TEST001\", \"TEST002\", \"TEST003\", \"TEST004\", \"TEST005\"]\n",
    "    }\n",
    "    \n",
    "    response = requests.post(\n",
    "        f'{BASE_URL}/inventory-requests',\n",
    "        headers=headers_auth,\n",
    "        json=data_entrada\n",
    "    )\n",
    "    \n",
    "    print('Respuesta:', json.dumps(response.json(), indent=2))\n",
    "    return response.json()\n",
    "\n",
    "solicitud_entrada = crear_solicitud_entrada()"
   ]
  },
  {
   "cell_type": "markdown",
   "id": "b05f8624",
   "metadata": {},
   "source": [
    "## 3. Verificar el estado del inventario antes de aprobar"
   ]
  },
  {
   "cell_type": "code",
   "execution_count": null,
   "id": "6434f434",
   "metadata": {},
   "outputs": [],
   "source": [
    "def verificar_item(item_id):\n",
    "    response = requests.get(\n",
    "        f'{BASE_URL}/inventory/items/{item_id}',\n",
    "        headers=headers_auth\n",
    "    )\n",
    "    print('Estado del item:', json.dumps(response.json(), indent=2))\n",
    "    return response.json()\n",
    "\n",
    "estado_inicial = verificar_item(solicitud_entrada['request']['itemId'])"
   ]
  },
  {
   "cell_type": "markdown",
   "id": "23e2bd15",
   "metadata": {},
   "source": [
    "## 4. Aprobar la solicitud de entrada"
   ]
  },
  {
   "cell_type": "code",
   "execution_count": null,
   "id": "551c7506",
   "metadata": {},
   "outputs": [],
   "source": [
    "def aprobar_solicitud(request_id):\n",
    "    data_aprobacion = {\n",
    "        \"action\": \"APROBAR\"\n",
    "    }\n",
    "    \n",
    "    response = requests.put(\n",
    "        f'{BASE_URL}/inventory-requests/{request_id}/process',\n",
    "        headers=headers_auth,\n",
    "        json=data_aprobacion\n",
    "    )\n",
    "    \n",
    "    print('Respuesta de aprobación:', json.dumps(response.json(), indent=2))\n",
    "    return response.json()\n",
    "\n",
    "aprobacion = aprobar_solicitud(solicitud_entrada['request']['_id'])"
   ]
  },
  {
   "cell_type": "markdown",
   "id": "13649e70",
   "metadata": {},
   "source": [
    "## 5. Verificar el estado final del inventario"
   ]
  },
  {
   "cell_type": "code",
   "execution_count": null,
   "id": "bf94129b",
   "metadata": {},
   "outputs": [],
   "source": [
    "estado_final = verificar_item(solicitud_entrada['request']['itemId'])\n",
    "\n",
    "# Validar que la cantidad se incrementó correctamente\n",
    "print(f\"\\nCantidad inicial: {estado_inicial['cantidad']}\")\n",
    "print(f\"Cantidad final: {estado_final['cantidad']}\")\n",
    "print(f\"Diferencia: {estado_final['cantidad'] - estado_inicial['cantidad']}\")\n",
    "\n",
    "# Validar números de serie\n",
    "nuevos_series = set(estado_final['numerosSerie']) - set(estado_inicial['numerosSerie'])\n",
    "print(f\"\\nNuevos números de serie agregados: {nuevos_series}\")"
   ]
  },
  {
   "cell_type": "markdown",
   "id": "20ca304f",
   "metadata": {},
   "source": [
    "## 6. Prueba de Baja de Inventario"
   ]
  },
  {
   "cell_type": "code",
   "execution_count": null,
   "id": "11364f1a",
   "metadata": {},
   "outputs": [],
   "source": [
    "def crear_solicitud_salida():\n",
    "    data_salida = {\n",
    "        \"tipoMovimiento\": \"SALIDA\",\n",
    "        \"inventarioTipo\": \"INTERIOR\",\n",
    "        \"itemId\": solicitud_entrada['request']['itemId'],  # Usamos el mismo item\n",
    "        \"cantidad\": 2,\n",
    "        \"motivoSolicitud\": \"Prueba de salida de inventario\",\n",
    "        \"numerosSerie\": [\"TEST001\", \"TEST002\"]  # Tomamos 2 de los números que agregamos\n",
    "    }\n",
    "    \n",
    "    response = requests.post(\n",
    "        f'{BASE_URL}/inventory-requests',\n",
    "        headers=headers_auth,\n",
    "        json=data_salida\n",
    "    )\n",
    "    \n",
    "    print('Respuesta:', json.dumps(response.json(), indent=2))\n",
    "    return response.json()\n",
    "\n",
    "solicitud_salida = crear_solicitud_salida()"
   ]
  },
  {
   "cell_type": "markdown",
   "id": "e684f1d3",
   "metadata": {},
   "source": [
    "## 7. Aprobar la solicitud de salida y verificar resultado final"
   ]
  },
  {
   "cell_type": "code",
   "execution_count": null,
   "id": "a0af3c00",
   "metadata": {},
   "outputs": [],
   "source": [
    "estado_antes_salida = verificar_item(solicitud_salida['request']['itemId'])\n",
    "aprobacion_salida = aprobar_solicitud(solicitud_salida['request']['_id'])\n",
    "estado_final_salida = verificar_item(solicitud_salida['request']['itemId'])\n",
    "\n",
    "print(f\"\\nCantidad antes de la salida: {estado_antes_salida['cantidad']}\")\n",
    "print(f\"Cantidad después de la salida: {estado_final_salida['cantidad']}\")\n",
    "print(f\"Diferencia: {estado_final_salida['cantidad'] - estado_antes_salida['cantidad']}\")\n",
    "\n",
    "# Verificar que los números de serie se removieron\n",
    "series_removidos = set(estado_antes_salida['numerosSerie']) - set(estado_final_salida['numerosSerie'])\n",
    "print(f\"\\nNúmeros de serie removidos: {series_removidos}\")"
   ]
  }
 ],
 "metadata": {
  "language_info": {
   "name": "python"
  }
 },
 "nbformat": 4,
 "nbformat_minor": 5
}
